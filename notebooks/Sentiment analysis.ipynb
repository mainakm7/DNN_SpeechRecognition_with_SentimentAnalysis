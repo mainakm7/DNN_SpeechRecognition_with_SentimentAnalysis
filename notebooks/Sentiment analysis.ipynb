{
 "cells": [
  {
   "cell_type": "code",
   "execution_count": 305,
   "metadata": {},
   "outputs": [
    {
     "name": "stderr",
     "output_type": "stream",
     "text": [
      "[nltk_data] Downloading package stopwords to\n",
      "[nltk_data]     C:\\Users\\ichigo7\\AppData\\Roaming\\nltk_data...\n",
      "[nltk_data]   Package stopwords is already up-to-date!\n"
     ]
    }
   ],
   "source": [
    "import pandas as pd\n",
    "import numpy as np\n",
    "\n",
    "import torch\n",
    "import torch.nn as nn\n",
    "import torch.nn.functional as F\n",
    "\n",
    "from torch.utils.data import TensorDataset,DataLoader\n",
    "\n",
    "import matplotlib.pyplot as plt\n",
    "from glob import glob as glob_module\n",
    "import os\n",
    "import sys\n",
    "\n",
    "import nltk\n",
    "from nltk.stem import SnowballStemmer\n",
    "from nltk.corpus import stopwords\n",
    "nltk.download('stopwords')\n",
    "import re\n",
    "import random\n",
    "\n",
    "from collections import Counter"
   ]
  },
  {
   "cell_type": "code",
   "execution_count": 306,
   "metadata": {},
   "outputs": [],
   "source": [
    "# Define paths\n",
    "notebook_folder = \"notebooks\"\n",
    "data_folder = r\"data\\processed\\imdb_data\"\n",
    "\n",
    "# Get current working directory\n",
    "current_directory = os.getcwd()\n",
    "parent_directory = os.path.abspath(os.path.join(current_directory, os.pardir))\n",
    "\n",
    "# Combine paths\n",
    "notebook_path = os.path.join(parent_directory, notebook_folder)\n",
    "data_path = os.path.join(parent_directory, data_folder)"
   ]
  },
  {
   "cell_type": "code",
   "execution_count": 307,
   "metadata": {},
   "outputs": [],
   "source": [
    "train_pos_path = os.path.join(data_path, r\"train\\pos\")\n",
    "train_neg_path = os.path.join(data_path, r\"train\\neg\")\n",
    "test_pos_path = os.path.join(data_path, r\"test\\pos\")\n",
    "test_neg_path = os.path.join(data_path, r\"test\\neg\")"
   ]
  },
  {
   "cell_type": "code",
   "execution_count": 308,
   "metadata": {},
   "outputs": [],
   "source": [
    "train_pos_files = glob_module(os.path.join(train_pos_path, '*.txt'), recursive=True)\n",
    "train_neg_files = glob_module(os.path.join(train_neg_path, '*.txt'), recursive=True)\n",
    "test_pos_files = glob_module(os.path.join(test_pos_path, '*.txt'), recursive=True)\n",
    "test_neg_files = glob_module(os.path.join(test_neg_path, '*.txt'), recursive=True)"
   ]
  },
  {
   "cell_type": "code",
   "execution_count": 309,
   "metadata": {},
   "outputs": [],
   "source": [
    "def preprocess_files(files):\n",
    "    processed_files = []\n",
    "    stemmer = SnowballStemmer(language=\"english\")\n",
    "    stop_words = set(stopwords.words(\"english\"))\n",
    "    for file in files:\n",
    "        with open(file, \"r\") as f:\n",
    "            text = f.read().lower()  \n",
    "            \n",
    "            words = re.findall(r'\\b\\w+\\b', text)\n",
    "            \n",
    "            words = [stemmer.stem(word) for word in words if word not in stop_words]\n",
    "            processed_files.append(words)\n",
    "    return processed_files"
   ]
  },
  {
   "cell_type": "code",
   "execution_count": 310,
   "metadata": {},
   "outputs": [],
   "source": [
    "pos_train = preprocess_files(train_pos_files)\n",
    "neg_train = preprocess_files(train_neg_files)\n",
    "pos_test = preprocess_files(test_pos_files)\n",
    "neg_test = preprocess_files(test_neg_files)\n"
   ]
  },
  {
   "cell_type": "code",
   "execution_count": 311,
   "metadata": {},
   "outputs": [
    {
     "data": {
      "text/plain": [
       "12500"
      ]
     },
     "execution_count": 311,
     "metadata": {},
     "output_type": "execute_result"
    }
   ],
   "source": [
    "len(pos_train)"
   ]
  },
  {
   "cell_type": "code",
   "execution_count": 312,
   "metadata": {},
   "outputs": [],
   "source": [
    "pos_train_label = list(np.ones(len(pos_train)))\n",
    "neg_train_label = list(np.zeros(len(neg_train)))\n",
    "pos_test_label = list(np.ones(len(pos_test)))\n",
    "neg_test_label = list(np.zeros(len(neg_test)))"
   ]
  },
  {
   "cell_type": "code",
   "execution_count": 313,
   "metadata": {},
   "outputs": [],
   "source": [
    "all_text = pos_train + neg_train + pos_test + neg_test\n",
    "\n",
    "all_words = [word for doc in all_text for word in doc]\n",
    "\n",
    "word_counts = Counter(all_words)\n",
    "\n",
    "top_words = word_counts.most_common(10000)\n",
    "\n",
    "word2id = {word: idx for idx, (word, _) in enumerate(top_words)}\n",
    "\n",
    "id2word = {idx: word for word, idx in word2id.items()}"
   ]
  },
  {
   "cell_type": "code",
   "execution_count": 314,
   "metadata": {},
   "outputs": [],
   "source": [
    "combined_data_train = list(zip(pos_train + neg_train, pos_train_label + neg_train_label))\n",
    "combined_data_test = list(zip(pos_test + neg_test, pos_test_label + neg_test_label))\n",
    "\n",
    "\n",
    "random.shuffle(combined_data_train)\n",
    "random.shuffle(combined_data_test)\n",
    "\n",
    "\n",
    "train_data, train_labels = zip(*combined_data_train)\n",
    "test_data, test_labels = zip(*combined_data_test)"
   ]
  },
  {
   "cell_type": "code",
   "execution_count": 315,
   "metadata": {},
   "outputs": [
    {
     "data": {
      "text/plain": [
       "['watch',\n",
       " 'david',\n",
       " 'bathsheba',\n",
       " 'much',\n",
       " 'better',\n",
       " 'way',\n",
       " 'get',\n",
       " 'bibl',\n",
       " 'lesson',\n",
       " 'go',\n",
       " 'sunday',\n",
       " 'school',\n",
       " 'despit',\n",
       " 'script',\n",
       " 'time',\n",
       " 'unintent',\n",
       " 'funni',\n",
       " 'film',\n",
       " 'high',\n",
       " 'entertain',\n",
       " 'studio',\n",
       " 'system',\n",
       " 'fault',\n",
       " 'spare',\n",
       " 'expens',\n",
       " 'lavish',\n",
       " 'product',\n",
       " 'call',\n",
       " 'peck',\n",
       " 'portray',\n",
       " 'king',\n",
       " 'david',\n",
       " 'lusti',\n",
       " 'torment',\n",
       " 'poet',\n",
       " 'commit',\n",
       " 'tantamount',\n",
       " 'murder',\n",
       " 'bed',\n",
       " 'sexi',\n",
       " 'bathsheba',\n",
       " 'susan',\n",
       " 'hayward',\n",
       " 'raymond',\n",
       " 'massey',\n",
       " 'prophet',\n",
       " 'nathan',\n",
       " 'deliv',\n",
       " 'usual',\n",
       " 'saturnin',\n",
       " 'feroci',\n",
       " 'perform',\n",
       " 'look',\n",
       " 'silent',\n",
       " 'screen',\n",
       " 'star',\n",
       " 'franci',\n",
       " 'x',\n",
       " 'bushman',\n",
       " 'king',\n",
       " 'saul',\n",
       " 'young',\n",
       " 'gwen',\n",
       " 'verdon',\n",
       " 'dancer',\n",
       " 'hooray',\n",
       " 'old',\n",
       " 'testament',\n",
       " 'hollywood']"
      ]
     },
     "execution_count": 315,
     "metadata": {},
     "output_type": "execute_result"
    }
   ],
   "source": [
    "train_data[0]"
   ]
  },
  {
   "cell_type": "code",
   "execution_count": 316,
   "metadata": {},
   "outputs": [],
   "source": [
    "UNK_TOKEN = \"<UNK>\"\n",
    "word2id[UNK_TOKEN] = len(word2id)\n",
    "for doc in train_data:\n",
    "    for i, word in enumerate(doc):\n",
    "        doc[i] = word2id.get(word, word2id[UNK_TOKEN])\n",
    "for doc in test_data:\n",
    "    for i, word in enumerate(doc):\n",
    "        doc[i] = word2id.get(word, word2id[UNK_TOKEN])\n",
    "\n",
    "unknown = word2id[UNK_TOKEN]"
   ]
  },
  {
   "cell_type": "code",
   "execution_count": 317,
   "metadata": {},
   "outputs": [
    {
     "data": {
      "text/plain": [
       "10001"
      ]
     },
     "execution_count": 317,
     "metadata": {},
     "output_type": "execute_result"
    }
   ],
   "source": [
    "vocab_size = len(word2id)\n",
    "vocab_size"
   ]
  },
  {
   "cell_type": "code",
   "execution_count": 318,
   "metadata": {},
   "outputs": [
    {
     "data": {
      "text/plain": [
       "78"
      ]
     },
     "execution_count": 318,
     "metadata": {},
     "output_type": "execute_result"
    }
   ],
   "source": [
    "len(train_data[5])"
   ]
  },
  {
   "cell_type": "code",
   "execution_count": 319,
   "metadata": {},
   "outputs": [
    {
     "data": {
      "text/plain": [
       "[1,\n",
       " 236,\n",
       " 111,\n",
       " 601,\n",
       " 149,\n",
       " 8198,\n",
       " 2882,\n",
       " 5193,\n",
       " 1825,\n",
       " 143,\n",
       " 1122,\n",
       " 158,\n",
       " 29,\n",
       " 189,\n",
       " 10,\n",
       " 9,\n",
       " 33,\n",
       " 4,\n",
       " 0,\n",
       " 0,\n",
       " 765,\n",
       " 18,\n",
       " 380,\n",
       " 2,\n",
       " 1286,\n",
       " 654,\n",
       " 4658,\n",
       " 1749,\n",
       " 11,\n",
       " 87,\n",
       " 287,\n",
       " 48,\n",
       " 282,\n",
       " 153,\n",
       " 708,\n",
       " 226,\n",
       " 2193,\n",
       " 1140,\n",
       " 627,\n",
       " 1849,\n",
       " 554,\n",
       " 654,\n",
       " 11,\n",
       " 282,\n",
       " 26,\n",
       " 11,\n",
       " 87,\n",
       " 287,\n",
       " 63,\n",
       " 2,\n",
       " 287,\n",
       " 19,\n",
       " 2117,\n",
       " 240,\n",
       " 15,\n",
       " 101,\n",
       " 199,\n",
       " 477,\n",
       " 1031,\n",
       " 71,\n",
       " 4526,\n",
       " 2175,\n",
       " 0,\n",
       " 0,\n",
       " 35,\n",
       " 180,\n",
       " 2994,\n",
       " 210,\n",
       " 87,\n",
       " 287,\n",
       " 658,\n",
       " 786,\n",
       " 145,\n",
       " 1,\n",
       " 235,\n",
       " 69,\n",
       " 291,\n",
       " 5]"
      ]
     },
     "execution_count": 319,
     "metadata": {},
     "output_type": "execute_result"
    }
   ],
   "source": [
    "train_data[5]"
   ]
  },
  {
   "cell_type": "code",
   "execution_count": 320,
   "metadata": {},
   "outputs": [
    {
     "name": "stdout",
     "output_type": "stream",
     "text": [
      "\n",
      " max length:  1455\n"
     ]
    }
   ],
   "source": [
    "max_len_combined = 0\n",
    "for doc in train_data + test_data:\n",
    "    max_len_combined = max(max_len_combined, len(doc))\n",
    "    \n",
    "print(\"\\n max length: \", max_len_combined)"
   ]
  },
  {
   "cell_type": "code",
   "execution_count": 321,
   "metadata": {},
   "outputs": [],
   "source": [
    "max_len = 800\n",
    "\n",
    "train_data = [seq for seq in train_data if seq is not None]\n",
    "test_data = [seq for seq in test_data if seq is not None]\n",
    "\n",
    "train_data_tensor = [torch.tensor(seq) for seq in train_data]\n",
    "test_data_tensor = [torch.tensor(seq) for seq in test_data]\n",
    "\n",
    "padded_train_data_tensor = nn.utils.rnn.pad_sequence(train_data_tensor, batch_first=True, padding_value=0)\n",
    "padded_test_data_tensor = nn.utils.rnn.pad_sequence(test_data_tensor, batch_first=True, padding_value=0)\n",
    "\n",
    "padded_train_data_tensor = padded_train_data_tensor[:, :max_len]\n",
    "padded_test_data_tensor = padded_test_data_tensor[:, :max_len]"
   ]
  },
  {
   "cell_type": "code",
   "execution_count": 322,
   "metadata": {},
   "outputs": [
    {
     "data": {
      "text/plain": [
       "torch.Size([25000, 800])"
      ]
     },
     "execution_count": 322,
     "metadata": {},
     "output_type": "execute_result"
    }
   ],
   "source": [
    "padded_train_data_tensor.shape"
   ]
  },
  {
   "cell_type": "code",
   "execution_count": 323,
   "metadata": {},
   "outputs": [],
   "source": [
    "train_labels_tensor = torch.tensor(train_labels).float()\n",
    "test_labels_tensor = torch.tensor(test_labels).float()"
   ]
  },
  {
   "cell_type": "code",
   "execution_count": 324,
   "metadata": {},
   "outputs": [
    {
     "data": {
      "text/plain": [
       "tensor(0.)"
      ]
     },
     "execution_count": 324,
     "metadata": {},
     "output_type": "execute_result"
    }
   ],
   "source": [
    "train_labels_tensor[5]"
   ]
  },
  {
   "cell_type": "code",
   "execution_count": 325,
   "metadata": {},
   "outputs": [
    {
     "data": {
      "text/plain": [
       "torch.Tensor"
      ]
     },
     "execution_count": 325,
     "metadata": {},
     "output_type": "execute_result"
    }
   ],
   "source": [
    "type(padded_train_data_tensor)"
   ]
  },
  {
   "cell_type": "code",
   "execution_count": 326,
   "metadata": {},
   "outputs": [],
   "source": [
    "train_set = TensorDataset(padded_train_data_tensor,train_labels_tensor)\n",
    "test_set = TensorDataset(padded_test_data_tensor,test_labels_tensor)"
   ]
  },
  {
   "cell_type": "code",
   "execution_count": 327,
   "metadata": {},
   "outputs": [
    {
     "data": {
      "text/plain": [
       "(tensor([   11,   529, 10000,    21,    56,    32,    10,  2766,  1261,    26,\n",
       "          2349,   303,   409,   126,     5,  1949,    73,     2,   120,   167,\n",
       "           803,  1289,  1452,  2388,  2133,  4793,   212,   157,  4511,   297,\n",
       "           609,   529, 10000,  3399,  4927,  1028, 10000,   260,  1088,  1136,\n",
       "         10000,  2358,  9650,  3978,  7004,  5635,  5315,   537,   288, 10000,\n",
       "          9402,    60,    18,  1095,   165,    81,  3317,  1507, 10000,   609,\n",
       "         10000,   112, 10000, 10000,  1962, 10000,    72,  3962,   302,     0,\n",
       "             0,     0,     0,     0,     0,     0,     0,     0,     0,     0,\n",
       "             0,     0,     0,     0,     0,     0,     0,     0,     0,     0,\n",
       "             0,     0,     0,     0,     0,     0,     0,     0,     0,     0,\n",
       "             0,     0,     0,     0,     0,     0,     0,     0,     0,     0,\n",
       "             0,     0,     0,     0,     0,     0,     0,     0,     0,     0,\n",
       "             0,     0,     0,     0,     0,     0,     0,     0,     0,     0,\n",
       "             0,     0,     0,     0,     0,     0,     0,     0,     0,     0,\n",
       "             0,     0,     0,     0,     0,     0,     0,     0,     0,     0,\n",
       "             0,     0,     0,     0,     0,     0,     0,     0,     0,     0,\n",
       "             0,     0,     0,     0,     0,     0,     0,     0,     0,     0,\n",
       "             0,     0,     0,     0,     0,     0,     0,     0,     0,     0,\n",
       "             0,     0,     0,     0,     0,     0,     0,     0,     0,     0,\n",
       "             0,     0,     0,     0,     0,     0,     0,     0,     0,     0,\n",
       "             0,     0,     0,     0,     0,     0,     0,     0,     0,     0,\n",
       "             0,     0,     0,     0,     0,     0,     0,     0,     0,     0,\n",
       "             0,     0,     0,     0,     0,     0,     0,     0,     0,     0,\n",
       "             0,     0,     0,     0,     0,     0,     0,     0,     0,     0,\n",
       "             0,     0,     0,     0,     0,     0,     0,     0,     0,     0,\n",
       "             0,     0,     0,     0,     0,     0,     0,     0,     0,     0,\n",
       "             0,     0,     0,     0,     0,     0,     0,     0,     0,     0,\n",
       "             0,     0,     0,     0,     0,     0,     0,     0,     0,     0,\n",
       "             0,     0,     0,     0,     0,     0,     0,     0,     0,     0,\n",
       "             0,     0,     0,     0,     0,     0,     0,     0,     0,     0,\n",
       "             0,     0,     0,     0,     0,     0,     0,     0,     0,     0,\n",
       "             0,     0,     0,     0,     0,     0,     0,     0,     0,     0,\n",
       "             0,     0,     0,     0,     0,     0,     0,     0,     0,     0,\n",
       "             0,     0,     0,     0,     0,     0,     0,     0,     0,     0,\n",
       "             0,     0,     0,     0,     0,     0,     0,     0,     0,     0,\n",
       "             0,     0,     0,     0,     0,     0,     0,     0,     0,     0,\n",
       "             0,     0,     0,     0,     0,     0,     0,     0,     0,     0,\n",
       "             0,     0,     0,     0,     0,     0,     0,     0,     0,     0,\n",
       "             0,     0,     0,     0,     0,     0,     0,     0,     0,     0,\n",
       "             0,     0,     0,     0,     0,     0,     0,     0,     0,     0,\n",
       "             0,     0,     0,     0,     0,     0,     0,     0,     0,     0,\n",
       "             0,     0,     0,     0,     0,     0,     0,     0,     0,     0,\n",
       "             0,     0,     0,     0,     0,     0,     0,     0,     0,     0,\n",
       "             0,     0,     0,     0,     0,     0,     0,     0,     0,     0,\n",
       "             0,     0,     0,     0,     0,     0,     0,     0,     0,     0,\n",
       "             0,     0,     0,     0,     0,     0,     0,     0,     0,     0,\n",
       "             0,     0,     0,     0,     0,     0,     0,     0,     0,     0,\n",
       "             0,     0,     0,     0,     0,     0,     0,     0,     0,     0,\n",
       "             0,     0,     0,     0,     0,     0,     0,     0,     0,     0,\n",
       "             0,     0,     0,     0,     0,     0,     0,     0,     0,     0,\n",
       "             0,     0,     0,     0,     0,     0,     0,     0,     0,     0,\n",
       "             0,     0,     0,     0,     0,     0,     0,     0,     0,     0,\n",
       "             0,     0,     0,     0,     0,     0,     0,     0,     0,     0,\n",
       "             0,     0,     0,     0,     0,     0,     0,     0,     0,     0,\n",
       "             0,     0,     0,     0,     0,     0,     0,     0,     0,     0,\n",
       "             0,     0,     0,     0,     0,     0,     0,     0,     0,     0,\n",
       "             0,     0,     0,     0,     0,     0,     0,     0,     0,     0,\n",
       "             0,     0,     0,     0,     0,     0,     0,     0,     0,     0,\n",
       "             0,     0,     0,     0,     0,     0,     0,     0,     0,     0,\n",
       "             0,     0,     0,     0,     0,     0,     0,     0,     0,     0,\n",
       "             0,     0,     0,     0,     0,     0,     0,     0,     0,     0,\n",
       "             0,     0,     0,     0,     0,     0,     0,     0,     0,     0,\n",
       "             0,     0,     0,     0,     0,     0,     0,     0,     0,     0,\n",
       "             0,     0,     0,     0,     0,     0,     0,     0,     0,     0,\n",
       "             0,     0,     0,     0,     0,     0,     0,     0,     0,     0,\n",
       "             0,     0,     0,     0,     0,     0,     0,     0,     0,     0,\n",
       "             0,     0,     0,     0,     0,     0,     0,     0,     0,     0,\n",
       "             0,     0,     0,     0,     0,     0,     0,     0,     0,     0,\n",
       "             0,     0,     0,     0,     0,     0,     0,     0,     0,     0,\n",
       "             0,     0,     0,     0,     0,     0,     0,     0,     0,     0,\n",
       "             0,     0,     0,     0,     0,     0,     0,     0,     0,     0,\n",
       "             0,     0,     0,     0,     0,     0,     0,     0,     0,     0,\n",
       "             0,     0,     0,     0,     0,     0,     0,     0,     0,     0,\n",
       "             0,     0,     0,     0,     0,     0,     0,     0,     0,     0,\n",
       "             0,     0,     0,     0,     0,     0,     0,     0,     0,     0,\n",
       "             0,     0,     0,     0,     0,     0,     0,     0,     0,     0,\n",
       "             0,     0,     0,     0,     0,     0,     0,     0,     0,     0,\n",
       "             0,     0,     0,     0,     0,     0,     0,     0,     0,     0,\n",
       "             0,     0,     0,     0,     0,     0,     0,     0,     0,     0,\n",
       "             0,     0,     0,     0,     0,     0,     0,     0,     0,     0]),\n",
       " tensor(1.))"
      ]
     },
     "execution_count": 327,
     "metadata": {},
     "output_type": "execute_result"
    }
   ],
   "source": [
    "train_set[0]"
   ]
  },
  {
   "cell_type": "code",
   "execution_count": 328,
   "metadata": {},
   "outputs": [],
   "source": [
    "batch_size = 64\n",
    "train_loader = DataLoader(train_set, batch_size = batch_size, shuffle=True, drop_last = True)\n",
    "test_loader = DataLoader(test_set, batch_size = batch_size, shuffle=True, drop_last = True)"
   ]
  },
  {
   "cell_type": "code",
   "execution_count": 329,
   "metadata": {},
   "outputs": [
    {
     "name": "stdout",
     "output_type": "stream",
     "text": [
      "cuda:0\n"
     ]
    }
   ],
   "source": [
    "device = torch.device(\"cuda:0\" if torch.cuda.is_available() else \"cpu\")\n",
    "print(device)"
   ]
  },
  {
   "cell_type": "code",
   "execution_count": 330,
   "metadata": {},
   "outputs": [],
   "source": [
    "class sent_model(nn.Module):\n",
    "    def __init__(self):\n",
    "        super().__init__()\n",
    "        self.embedding = nn.Embedding(vocab_size, 50)\n",
    "        self.lstm = nn.LSTM(50, 100, bidirectional=True, batch_first=True)\n",
    "        self.bn_lstm = nn.BatchNorm1d(100 * 2) \n",
    "        self.fc1 = nn.Linear(100 * 2, 64)  \n",
    "        self.bn_fc1 = nn.BatchNorm1d(64)  \n",
    "        self.fc2 = nn.Linear(64, 1)\n",
    "\n",
    "    def forward(self, x):\n",
    "        embedded = self.embedding(x)\n",
    "        lstm_out, _ = self.lstm(embedded)\n",
    "        lstm_out = lstm_out.transpose(1, 2) \n",
    "        lstm_out = self.bn_lstm(lstm_out)\n",
    "        lstm_out = lstm_out.transpose(1, 2)  \n",
    "        lstm_out = torch.max(lstm_out, dim=1)[0]  \n",
    "        out = F.relu(self.fc1(lstm_out))\n",
    "        out = self.bn_fc1(out)\n",
    "        out = self.fc2(out)\n",
    "        return out.squeeze(1)"
   ]
  },
  {
   "cell_type": "code",
   "execution_count": 331,
   "metadata": {},
   "outputs": [],
   "source": [
    "def train_model(model,epochs=10):\n",
    "    \n",
    "    \n",
    "    lossfun = nn.BCEWithLogitsLoss()\n",
    "    optimizer = torch.optim.Adam(model.parameters(), lr = 0.00005)\n",
    "    \n",
    "    \n",
    "    losses = []\n",
    "    trainbatchloss, trainbatchAcc = [], []\n",
    "    trainAcc = []\n",
    "    \n",
    "    testbatchAcc = []\n",
    "    testAcc  = []\n",
    "    \n",
    "    for i in range(epochs):\n",
    "        sys.stdout.write(f\"\\n epoch {i+1}/{epochs}\")\n",
    "        model.train()\n",
    "        for X,y in train_loader:\n",
    "            X = X.to(device)\n",
    "            y = y.to(device)\n",
    "            yhat = model(X)\n",
    "            loss = lossfun(y,yhat)\n",
    "            optimizer.zero_grad()\n",
    "            loss.backward()\n",
    "            optimizer.step()\n",
    "        \n",
    "            trainbatchloss.append(loss.item())\n",
    "            trainbatchAcc.append( 100*torch.mean(((yhat>0) == y).float()).item() )\n",
    "            \n",
    "        \n",
    "        trainAcc.append( np.mean(trainbatchAcc) )\n",
    "\n",
    "        \n",
    "        losses.append(np.mean(trainbatchloss) )\n",
    "        \n",
    "        model.eval()\n",
    "        for Xtest,ytest in test_loader:\n",
    "    \n",
    "            Xtest = Xtest.to(device)\n",
    "            ytest = ytest.to(device)\n",
    "    \n",
    "            with torch.no_grad():\n",
    "                ypred = model(Xtest)\n",
    "    \n",
    "            testbatchAcc.append(100*torch.mean(((ypred>0) == ytest).float()).item())\n",
    "        testAcc.append(np.mean(testbatchAcc))\n",
    "        \n",
    "    return trainAcc,testAcc,losses\n",
    "        \n",
    "    \n",
    "    "
   ]
  },
  {
   "cell_type": "code",
   "execution_count": 332,
   "metadata": {},
   "outputs": [
    {
     "name": "stdout",
     "output_type": "stream",
     "text": [
      "torch.Size([10])\n"
     ]
    }
   ],
   "source": [
    "modeltest = sent_model()\n",
    "modeltest.to(device)\n",
    "xcheck = torch.randint(0, vocab_size, (10, 500), device=device)\n",
    "ycheck = modeltest(xcheck)\n",
    "print(ycheck.shape)"
   ]
  },
  {
   "cell_type": "code",
   "execution_count": 333,
   "metadata": {},
   "outputs": [],
   "source": [
    "torch.cuda.empty_cache()"
   ]
  },
  {
   "cell_type": "code",
   "execution_count": 334,
   "metadata": {},
   "outputs": [
    {
     "name": "stdout",
     "output_type": "stream",
     "text": [
      "\n",
      " epoch 1/100\n",
      " epoch 2/100\n",
      " epoch 3/100\n",
      " epoch 4/100\n",
      " epoch 5/100\n",
      " epoch 6/100\n",
      " epoch 7/100\n",
      " epoch 8/100\n",
      " epoch 9/100\n",
      " epoch 10/100\n",
      " epoch 11/100\n",
      " epoch 12/100\n",
      " epoch 13/100\n",
      " epoch 14/100\n",
      " epoch 15/100\n",
      " epoch 16/100\n",
      " epoch 17/100\n",
      " epoch 18/100\n",
      " epoch 19/100\n",
      " epoch 20/100\n",
      " epoch 21/100\n",
      " epoch 22/100\n",
      " epoch 23/100\n",
      " epoch 24/100\n",
      " epoch 25/100\n",
      " epoch 26/100\n",
      " epoch 27/100\n",
      " epoch 28/100\n",
      " epoch 29/100\n",
      " epoch 30/100\n",
      " epoch 31/100\n",
      " epoch 32/100\n",
      " epoch 33/100\n",
      " epoch 34/100\n",
      " epoch 35/100\n",
      " epoch 36/100\n",
      " epoch 37/100\n",
      " epoch 38/100\n",
      " epoch 39/100\n",
      " epoch 40/100\n",
      " epoch 41/100\n",
      " epoch 42/100\n",
      " epoch 43/100\n",
      " epoch 44/100\n",
      " epoch 45/100\n",
      " epoch 46/100\n",
      " epoch 47/100\n",
      " epoch 48/100\n",
      " epoch 49/100\n",
      " epoch 50/100\n",
      " epoch 51/100\n",
      " epoch 52/100\n",
      " epoch 53/100\n",
      " epoch 54/100\n",
      " epoch 55/100\n",
      " epoch 56/100\n",
      " epoch 57/100\n",
      " epoch 58/100\n",
      " epoch 59/100\n",
      " epoch 60/100\n",
      " epoch 61/100\n",
      " epoch 62/100\n",
      " epoch 63/100\n",
      " epoch 64/100\n",
      " epoch 65/100\n",
      " epoch 66/100\n",
      " epoch 67/100\n",
      " epoch 68/100\n",
      " epoch 69/100\n",
      " epoch 70/100\n",
      " epoch 71/100\n",
      " epoch 72/100\n",
      " epoch 73/100\n",
      " epoch 74/100\n",
      " epoch 75/100\n",
      " epoch 76/100\n",
      " epoch 77/100\n",
      " epoch 78/100\n",
      " epoch 79/100\n",
      " epoch 80/100\n",
      " epoch 81/100\n",
      " epoch 82/100\n",
      " epoch 83/100\n",
      " epoch 84/100\n",
      " epoch 85/100\n",
      " epoch 86/100\n",
      " epoch 87/100\n",
      " epoch 88/100\n",
      " epoch 89/100\n",
      " epoch 90/100\n",
      " epoch 91/100\n",
      " epoch 92/100\n",
      " epoch 93/100\n",
      " epoch 94/100\n",
      " epoch 95/100\n",
      " epoch 96/100\n",
      " epoch 97/100\n",
      " epoch 98/100\n",
      " epoch 99/100\n",
      " epoch 100/100"
     ]
    }
   ],
   "source": [
    "sentimentmodel = sent_model()\n",
    "sentimentmodel.to(device)\n",
    "trainAcc,testAcc,losses = train_model(sentimentmodel,100)"
   ]
  },
  {
   "cell_type": "code",
   "execution_count": 335,
   "metadata": {},
   "outputs": [
    {
     "data": {
      "image/png": "[encoded data removed]",
      "text/plain": [
       "<Figure size 1700x500 with 3 Axes>"
      ]
     },
     "metadata": {},
     "output_type": "display_data"
    }
   ],
   "source": [
    "# plot the results\n",
    "fig,ax = plt.subplots(1,3,figsize=(17,5))\n",
    "\n",
    "ax[0].plot(losses)\n",
    "\n",
    "ax[0].set_title('Losses')\n",
    "\n",
    "\n",
    "ax[1].plot(trainAcc)\n",
    "\n",
    "ax[1].set_title('Train accuracy')\n",
    "\n",
    "\n",
    "ax[2].plot(testAcc)\n",
    "\n",
    "ax[2].set_title('Test accuracy')\n",
    "\n",
    "\n",
    "plt.show()"
   ]
  },
  {
   "cell_type": "code",
   "execution_count": null,
   "metadata": {},
   "outputs": [],
   "source": []
  }
 ],
 "metadata": {
  "kernelspec": {
   "display_name": "parallel",
   "language": "python",
   "name": "python3"
  },
  "language_info": {
   "codemirror_mode": {
    "name": "ipython",
    "version": 3
   },
   "file_extension": ".py",
   "mimetype": "text/x-python",
   "name": "python",
   "nbconvert_exporter": "python",
   "pygments_lexer": "ipython3",
   "version": "3.11.5"
  }
 },
 "nbformat": 4,
 "nbformat_minor": 2
}
