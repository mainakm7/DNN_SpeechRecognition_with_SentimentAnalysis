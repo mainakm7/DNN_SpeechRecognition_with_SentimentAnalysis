{
 "cells": [
  {
   "cell_type": "code",
   "execution_count": 18,
   "metadata": {},
   "outputs": [],
   "source": [
    "import numpy as np\n",
    "\n",
    "import matplotlib.pyplot as plt\n",
    "import matplotlib.mlab as mlab\n",
    "\n",
    "from glob import glob as glob_module\n",
    "import os\n",
    "\n",
    "import librosa\n",
    "import librosa.display\n",
    "\n",
    "from python_speech_features import mfcc\n",
    "\n",
    "import logging\n",
    "import soundfile as sf\n",
    "import sounddevice as sd\n",
    "\n",
    "from joblib import delayed, Parallel\n",
    "\n",
    "import json\n",
    "import pickle\n",
    "from pprint import pprint"
   ]
  },
  {
   "cell_type": "code",
   "execution_count": 19,
   "metadata": {},
   "outputs": [],
   "source": [
    "logging.basicConfig(level=logging.INFO, filename=\"log.log\", filemode=\"w\")\n",
    "logger = logging.getLogger(__name__)\n",
    "\n",
    "handler = logging.FileHandler(\"dataprocessing_test2.log\", mode=\"w\")\n",
    "formatter = logging.Formatter(\"%(name)s - %(message)s\")\n",
    "handler.setFormatter(formatter)\n",
    "\n",
    "logger.addHandler(handler)"
   ]
  },
  {
   "cell_type": "code",
   "execution_count": 20,
   "metadata": {},
   "outputs": [],
   "source": [
    "curr_notebook_dir = os.getcwd()\n",
    "parent_dir = os.path.abspath(os.path.join(curr_notebook_dir,os.pardir))\n",
    "train_path = r\"data\\raw\\LibriSpeech\\train-clean-100\\LibriSpeech\\train-clean-100\\**\\**\\*.flac\"\n",
    "test_path = r\"data\\raw\\LibriSpeech\\test-clean\\LibriSpeech\\test-clean\\**\\**\\*.flac\"\n",
    "dev_path = r\"data\\raw\\LibriSpeech\\dev-clean\\LibriSpeech\\dev-clean\\**\\**\\*.flac\"\n",
    "\n",
    "train_path_whole = os.path.join(parent_dir,train_path)\n",
    "test_path_whole = os.path.join(parent_dir,test_path)\n",
    "dev_path_whole = os.path.join(parent_dir,dev_path)"
   ]
  },
  {
   "cell_type": "code",
   "execution_count": 21,
   "metadata": {},
   "outputs": [],
   "source": [
    "data_files_train = glob_module(train_path_whole, recursive=True)\n",
    "data_files_dev = glob_module(dev_path_whole, recursive=True)\n",
    "data_files_test = glob_module(test_path_whole, recursive=True)"
   ]
  },
  {
   "cell_type": "code",
   "execution_count": 22,
   "metadata": {},
   "outputs": [],
   "source": [
    "def corpus(file):\n",
    "    file_name = os.path.basename(file)\n",
    "    file_name_abs = file_name.split(\".\")\n",
    "    cur_dir = os.path.dirname(file)\n",
    "    transcript_file = glob_module(os.path.join(cur_dir, \"*.txt\"))\n",
    "    with open(transcript_file[0],\"r\") as f:\n",
    "        lines = f.readlines()\n",
    "    first_words_list = [(line.split()[0],i) for i,line in enumerate(lines)]\n",
    "    for elements in first_words_list:\n",
    "        if elements[0]==file_name_abs[0]:\n",
    "            line = lines[elements[1]]\n",
    "            line = line.split()\n",
    "            transcript = \" \".join(line[1:])\n",
    "            break\n",
    "    return {\"name\": file_name_abs[0], \"file\": file, \"transcript\": transcript}"
   ]
  },
  {
   "cell_type": "code",
   "execution_count": 23,
   "metadata": {},
   "outputs": [],
   "source": [
    "ordered_transcripts_train = []\n",
    "for file in data_files_train:\n",
    "    transcript = corpus(file)\n",
    "    ordered_transcripts_train.append(transcript)"
   ]
  },
  {
   "cell_type": "code",
   "execution_count": 24,
   "metadata": {},
   "outputs": [],
   "source": [
    "ordered_transcripts_test = []\n",
    "for file in data_files_test:\n",
    "    transcript = corpus(file)\n",
    "    ordered_transcripts_test.append(transcript)"
   ]
  },
  {
   "cell_type": "code",
   "execution_count": 25,
   "metadata": {},
   "outputs": [],
   "source": [
    "ordered_transcripts_dev = []\n",
    "for file in data_files_dev:\n",
    "    transcript = corpus(file)\n",
    "    ordered_transcripts_dev.append(transcript)"
   ]
  },
  {
   "cell_type": "code",
   "execution_count": 26,
   "metadata": {},
   "outputs": [],
   "source": [
    "corpus_path = r\"data\\processed\"\n",
    "curr_notebook_dir = os.getcwd()\n",
    "parent_dir = os.path.abspath(os.path.join(curr_notebook_dir,os.pardir))\n",
    "corpus_path_whole = os.path.join(parent_dir,corpus_path)"
   ]
  },
  {
   "cell_type": "code",
   "execution_count": 27,
   "metadata": {},
   "outputs": [],
   "source": [
    "train_corpus_file = os.path.join(corpus_path_whole, \"train_corpus_new.json\")\n",
    "with open(train_corpus_file, \"w\") as f:\n",
    "    json.dump(ordered_transcripts_train, f)"
   ]
  },
  {
   "cell_type": "code",
   "execution_count": 28,
   "metadata": {},
   "outputs": [],
   "source": [
    "test_corpus_file = os.path.join(corpus_path_whole, \"test_corpus_new.json\")\n",
    "with open(test_corpus_file, \"w\") as f:\n",
    "    json.dump(ordered_transcripts_test, f)"
   ]
  },
  {
   "cell_type": "code",
   "execution_count": 29,
   "metadata": {},
   "outputs": [],
   "source": [
    "dev_corpus_file = os.path.join(corpus_path_whole, \"dev_corpus_new.json\")\n",
    "with open(dev_corpus_file, \"w\") as f:\n",
    "    json.dump(ordered_transcripts_dev, f)"
   ]
  },
  {
   "cell_type": "code",
   "execution_count": null,
   "metadata": {},
   "outputs": [],
   "source": []
  }
 ],
 "metadata": {
  "kernelspec": {
   "display_name": "mlenv",
   "language": "python",
   "name": "python3"
  },
  "language_info": {
   "codemirror_mode": {
    "name": "ipython",
    "version": 3
   },
   "file_extension": ".py",
   "mimetype": "text/x-python",
   "name": "python",
   "nbconvert_exporter": "python",
   "pygments_lexer": "ipython3",
   "version": "3.11.5"
  }
 },
 "nbformat": 4,
 "nbformat_minor": 2
}
