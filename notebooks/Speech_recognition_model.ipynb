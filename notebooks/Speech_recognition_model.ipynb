{
 "cells": [
  {
   "cell_type": "code",
   "execution_count": 9,
   "metadata": {},
   "outputs": [],
   "source": [
    "import numpy as np\n",
    "\n",
    "import torch\n",
    "import torch.nn as nn\n",
    "import torch.nn.functional as F\n",
    "import torchaudio\n",
    "\n",
    "from torch.utils.data import TensorDataset,DataLoader\n",
    "\n",
    "import matplotlib.pyplot as plt\n",
    "import matplotlib.mlab as mlab\n",
    "\n",
    "import os\n",
    "\n",
    "import random\n",
    "\n",
    "from python_speech_features import mfcc\n",
    "\n",
    "import logging\n",
    "import soundfile as sf\n",
    "import sounddevice as sd\n",
    "\n",
    "from joblib import delayed, Parallel\n",
    "\n",
    "import json\n",
    "import pickle"
   ]
  },
  {
   "cell_type": "code",
   "execution_count": 10,
   "metadata": {},
   "outputs": [],
   "source": [
    "logging.basicConfig(level=logging.INFO, filename=\"log.log\", filemode=\"w\")\n",
    "logger = logging.getLogger(__name__)\n",
    "\n",
    "handler = logging.FileHandler(\"model_test.log\", mode=\"w\")\n",
    "formatter = logging.Formatter(\"%(name)s - %(message)s\")\n",
    "handler.setFormatter(formatter)\n",
    "\n",
    "logger.addHandler(handler)"
   ]
  },
  {
   "cell_type": "code",
   "execution_count": 11,
   "metadata": {},
   "outputs": [],
   "source": [
    "corpus_path = r\"data\\processed\"\n",
    "curr_notebook_dir = os.getcwd()\n",
    "parent_dir = os.path.abspath(os.path.join(curr_notebook_dir,os.pardir))\n",
    "corpus_path_whole = os.path.join(parent_dir,corpus_path)"
   ]
  },
  {
   "cell_type": "code",
   "execution_count": 12,
   "metadata": {},
   "outputs": [],
   "source": [
    "train_corpus_path = os.path.join(corpus_path_whole,\"train_corpus_new.json\")\n",
    "test_corpus_path = os.path.join(corpus_path_whole,\"test_corpus_new.json\")\n",
    "dev_corpus_path = os.path.join(corpus_path_whole,\"dev_corpus_new.json\")"
   ]
  },
  {
   "cell_type": "code",
   "execution_count": 13,
   "metadata": {},
   "outputs": [],
   "source": [
    "with open(train_corpus_path, \"r\") as f:\n",
    "    train_corpus = json.load(f)"
   ]
  },
  {
   "cell_type": "code",
   "execution_count": 14,
   "metadata": {},
   "outputs": [],
   "source": [
    "with open(test_corpus_path, \"r\") as f:\n",
    "    test_corpus = json.load(f)"
   ]
  },
  {
   "cell_type": "code",
   "execution_count": 15,
   "metadata": {},
   "outputs": [],
   "source": [
    "with open(dev_corpus_path, \"r\") as f:\n",
    "    dev_corpus = json.load(f)"
   ]
  },
  {
   "cell_type": "code",
   "execution_count": null,
   "metadata": {},
   "outputs": [],
   "source": []
  }
 ],
 "metadata": {
  "kernelspec": {
   "display_name": "mlenv",
   "language": "python",
   "name": "python3"
  },
  "language_info": {
   "codemirror_mode": {
    "name": "ipython",
    "version": 3
   },
   "file_extension": ".py",
   "mimetype": "text/x-python",
   "name": "python",
   "nbconvert_exporter": "python",
   "pygments_lexer": "ipython3",
   "version": "3.11.5"
  }
 },
 "nbformat": 4,
 "nbformat_minor": 2
}
